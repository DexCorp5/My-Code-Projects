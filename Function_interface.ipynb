{
 "cells": [
  {
   "cell_type": "markdown",
   "id": "eb05d704-f392-4a60-ac1e-253ff4e8d9c7",
   "metadata": {},
   "source": [
    "Ways to think about an ordered process\n",
    "1 user wants to put in a series of commands in an array\n",
    "1. sort. 2. multiply. 3. sum\n",
    "\n",
    "A way to store functions\n",
    "\n",
    "1. Function calss\n",
    "\n",
    "2. recursive calling function\n",
    "\n",
    "3. array object (numpy array)"
   ]
  },
  {
   "cell_type": "code",
   "execution_count": 3,
   "id": "1f101da0-0454-4cc6-9ec3-063447423be3",
   "metadata": {},
   "outputs": [],
   "source": [
    "import numpy as np"
   ]
  },
  {
   "cell_type": "code",
   "execution_count": 4,
   "id": "4937c8b3-c0b0-4c74-a47f-d93625042126",
   "metadata": {},
   "outputs": [],
   "source": [
    "\n",
    "def recursive_apply(flist, inp, idx = 0):\n",
    "    \n",
    "    if(idx < len(flist)):    \n",
    "        return recursive_apply(flist, flist[idx].apply(inp), idx + 1);\n",
    "    \n",
    "    else:\n",
    "        return inp;\n",
    "    \n",
    "def iterative_apply(flist, inp):\n",
    "    \n",
    "    for i in range(0,len(flist)):\n",
    "        inp = f[i].apply(inp);\n",
    "        \n",
    "    return inp;\n"
   ]
  },
  {
   "cell_type": "code",
   "execution_count": 11,
   "id": "a4164638-f780-4157-84e1-35f00fc1baa8",
   "metadata": {},
   "outputs": [],
   "source": [
    "#f = function, s= state\n",
    "class stateful_functor:\n",
    "    \n",
    "    def __init__(self,f,s):\n",
    "        self.__f = f,\n",
    "        self.__s = s\n",
    "        \n",
    "    def apply(self, x):\n",
    "        return self.__f[0](x, self.__s)\n",
    "    \n",
    "class stateless_functor:\n",
    "    \n",
    "    def __init__(self,f):\n",
    "        self.__f = f\n",
    "        \n",
    "    def apply(self, x):\n",
    "        return self.__f(x);\n"
   ]
  },
  {
   "cell_type": "code",
   "execution_count": 12,
   "id": "07d29d69-3b41-47c0-8f14-194889600b18",
   "metadata": {},
   "outputs": [],
   "source": [
    "#Helper function list\n",
    "    \n",
    "def make_mul(s):\n",
    "    return stateful_functor(lambda x, y : x * y, s)\n",
    "\n",
    "def divide(s):\n",
    "    return stateful_functor(lambda x, y : x / y, s)\n",
    "\n",
    "def make_sum():\n",
    "    return stateless_functor(lambda x : np.array([np.add.reduce(x.flatten())]))\n"
   ]
  },
  {
   "cell_type": "code",
   "execution_count": 15,
   "id": "2f265de9-8512-4023-b207-90666e76063b",
   "metadata": {},
   "outputs": [
    {
     "data": {
      "text/plain": [
       "array([40.])"
      ]
     },
     "execution_count": 15,
     "metadata": {},
     "output_type": "execute_result"
    }
   ],
   "source": [
    "#dictionary keys\n",
    "\n",
    "fmap = {\n",
    "    \"*\" : make_mul,\n",
    "    \"R\" : make_sum,\n",
    "    \"/\" : divide\n",
    "}\n",
    "\n",
    "\n",
    "x = np.array([\n",
    "    [3, 6, 9, 12], \n",
    "    [1, 2, 3, 4 ]\n",
    "])\n",
    "\n",
    "#create flist then apply to input\n",
    "\n",
    "flist = [];\n",
    "\n",
    "flist.append(fmap[\"*\"](2));\n",
    "\n",
    "flist.append(fmap[\"R\"]( ));\n",
    "\n",
    "flist.append(fmap[\"/\"](2));\n",
    "\n",
    "recursive_apply(flist,x)\n"
   ]
  },
  {
   "cell_type": "code",
   "execution_count": 1,
   "id": "d2241675-385e-4c2d-ae29-566efe0818f0",
   "metadata": {},
   "outputs": [
    {
     "data": {
      "text/plain": [
       "3.0"
      ]
     },
     "execution_count": 1,
     "metadata": {},
     "output_type": "execute_result"
    }
   ],
   "source": []
  },
  {
   "cell_type": "code",
   "execution_count": null,
   "id": "deb5d51d-3c71-48dc-9286-63bce0722226",
   "metadata": {},
   "outputs": [],
   "source": []
  }
 ],
 "metadata": {
  "kernelspec": {
   "display_name": "Python 3 (ipykernel)",
   "language": "python",
   "name": "python3"
  },
  "language_info": {
   "codemirror_mode": {
    "name": "ipython",
    "version": 3
   },
   "file_extension": ".py",
   "mimetype": "text/x-python",
   "name": "python",
   "nbconvert_exporter": "python",
   "pygments_lexer": "ipython3",
   "version": "3.9.7"
  }
 },
 "nbformat": 4,
 "nbformat_minor": 5
}
