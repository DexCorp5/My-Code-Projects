{
 "cells": [
  {
   "cell_type": "code",
   "execution_count": null,
   "id": "14b4822a-6da4-41b6-981b-999c7cfc7bf9",
   "metadata": {},
   "outputs": [],
   "source": [
    "\n",
    "\n",
    "\n",
    "def sub_print(i : int ):\n",
    "    print(i)\n",
    "    if i <= 0:\n",
    "        return\n",
    "    else :\n",
    "        return sub_print(i - 1)"
   ]
  },
  {
   "cell_type": "code",
   "execution_count": null,
   "id": "59caa32b-f543-4d69-b046-33805f4fde40",
   "metadata": {},
   "outputs": [],
   "source": [
    "def array_print(i : int, l : list):\n",
    "    if i < len(l):\n",
    "        print(l[i])\n",
    "        return array_print(i + 1, l)\n",
    "    else :\n",
    "        return"
   ]
  },
  {
   "cell_type": "code",
   "execution_count": null,
   "id": "c6f68382-954a-40ac-a086-b42b44cac57c",
   "metadata": {},
   "outputs": [],
   "source": [
    "array_print(0, [2, 3, 4, 5, 6]) 6"
   ]
  },
  {
   "cell_type": "code",
   "execution_count": null,
   "id": "aa508c18-d4e1-4dd6-a23f-8ab922c52d4a",
   "metadata": {},
   "outputs": [],
   "source": [
    "def bind(l : list):\n",
    "    return array_print(0, l)"
   ]
  },
  {
   "cell_type": "code",
   "execution_count": null,
   "id": "551f2b49-31d4-4c17-a85c-55ac431e182e",
   "metadata": {},
   "outputs": [],
   "source": [
    "bind([1, 2, 3, 4, 5]) 6"
   ]
  },
  {
   "cell_type": "code",
   "execution_count": null,
   "id": "476701b9-c7ff-46c8-ad94-e1f9b24d2c8d",
   "metadata": {},
   "outputs": [],
   "source": [
    "#l is the imput list\n",
    "#tuple of curent attempt\n",
    "def array_print(i : tuple, l : list):\n",
    "    if i < len(l):\n",
    "        print(l[i])\n",
    "        return array_print(i + 1, l)\n",
    "    else :\n",
    "        return"
   ]
  },
  {
   "cell_type": "code",
   "execution_count": null,
   "id": "72b09830-88de-4e51-8599-8fcd3b886c8c",
   "metadata": {},
   "outputs": [],
   "source": [
    "def recursive_for(last : int, numbers : list, tabs : str):\n",
    "           \n",
    "    for i in range(last + 1, len(numbers)) :\n",
    "        \n",
    "        print(tabs + f\"last: {last}, next: {numbers[i]}\\n\")\n",
    "        \n",
    "        recursive_for(i,numbers, tabs + '\\t')\n",
    "        "
   ]
  },
  {
   "cell_type": "markdown",
   "id": "4e23af18-bca8-488f-9fb1-2bc7afb6858f",
   "metadata": {},
   "source": [
    "FUNCTION THAT ITERATES THROUGH THE KNOWN LIST\n",
    "Function that memoizing function for the attempts (include list of succesful combinations\n",
    "Function that takes in the current combo and tests agaisnt the target"
   ]
  },
  {
   "cell_type": "markdown",
   "id": "b72f01af-cea8-497f-98a3-cb8084519f04",
   "metadata": {},
   "source": [
    "recursive_for(0, [0,1,2,3,4,5], '')\n"
   ]
  },
  {
   "cell_type": "code",
   "execution_count": 4,
   "id": "65386607-e169-4ad5-a8d9-dabe92fdb46b",
   "metadata": {},
   "outputs": [
    {
     "name": "stdout",
     "output_type": "stream",
     "text": [
      "last: 0, next: 1\n",
      "\n",
      "\tlast: 1, next: 2\n",
      "\n",
      "\t\tlast: 2, next: 3\n",
      "\n",
      "\t\t\tlast: 3, next: 7\n",
      "\n",
      "\t\t\t\tlast: 4, next: 5\n",
      "\n",
      "\t\t\tlast: 3, next: 5\n",
      "\n",
      "\t\tlast: 2, next: 7\n",
      "\n",
      "\t\tlast: 2, next: 5\n",
      "\n",
      "\tlast: 1, next: 3\n",
      "\n",
      "\tlast: 1, next: 7\n",
      "\n",
      "\tlast: 1, next: 5\n",
      "\n",
      "last: 0, next: 2\n",
      "\n",
      "last: 0, next: 3\n",
      "\n",
      "last: 0, next: 7\n",
      "\n",
      "last: 0, next: 5\n",
      "\n"
     ]
    }
   ],
   "source": [
    "class recursive_for_memo : \n",
    "    \n",
    "    def __init__(self):\n",
    "        self.memo = set()\n",
    "    \n",
    "    def recursive_for(self, last : int, numbers : list, tabs : str) :   \n",
    "           \n",
    "        for i in range(last + 1, len(numbers)) :\n",
    "\n",
    "            # check if we have visited this pair \n",
    "            if((last,i) in self.memo) : return;\n",
    "\n",
    "            #append tuple to set for memoization\n",
    "            self.memo.add((last,i))\n",
    "\n",
    "            # print our current step in the process\n",
    "            print(tabs + f\"last: {last}, next: {numbers[i]}\\n\")\n",
    "\n",
    "            # recall the algorithm with updated info\n",
    "            self.recursive_for(i, numbers, tabs + '\\t')\n",
    "            \n",
    "def call_for(numbers : list) :\n",
    "    \n",
    "    recursive_for_memo().recursive_for(0, numbers, \"\");\n",
    "    \n",
    "call_for([0,1,2,3,7,5])"
   ]
  },
  {
   "cell_type": "code",
   "execution_count": null,
   "id": "2256810a-6693-407b-b28c-fa185bf0088a",
   "metadata": {},
   "outputs": [],
   "source": []
  },
  {
   "cell_type": "code",
   "execution_count": null,
   "id": "e8bf723b-8118-489f-9d27-e8a2ec490186",
   "metadata": {},
   "outputs": [],
   "source": [
    "class recursive_for_memo : \n",
    "    \n",
    "    memo = set()\n",
    "    \n",
    "    def recursive_for(last : int, numbers : list, tabs : str) :   \n",
    "           \n",
    "        for i in range(last + 1, len(numbers)) :\n",
    "\n",
    "            # check if we have visited this pair \n",
    "            if((last,i) in memo) : return;\n",
    "\n",
    "\n",
    "            #append tuple to set for memoization\n",
    "            memo.add((last,i))\n",
    "\n",
    "            # print our current step in the process\n",
    "            print(tabs + f\"last: {last}, next: {numbers[i]}\\n\")\n",
    "\n",
    "            # recall the algorithm with updated info\n",
    "            recursive_for(i, numbers, tabs + '\\t')"
   ]
  }
 ],
 "metadata": {
  "kernelspec": {
   "display_name": "Python 3 (ipykernel)",
   "language": "python",
   "name": "python3"
  },
  "language_info": {
   "codemirror_mode": {
    "name": "ipython",
    "version": 3
   },
   "file_extension": ".py",
   "mimetype": "text/x-python",
   "name": "python",
   "nbconvert_exporter": "python",
   "pygments_lexer": "ipython3",
   "version": "3.9.7"
  }
 },
 "nbformat": 4,
 "nbformat_minor": 5
}
